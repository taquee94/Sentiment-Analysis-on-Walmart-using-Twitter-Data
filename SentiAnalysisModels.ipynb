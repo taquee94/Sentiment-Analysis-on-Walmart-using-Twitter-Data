{
 "cells": [
  {
   "cell_type": "markdown",
   "metadata": {},
   "source": [
    "## Final Project -  Group 17"
   ]
  },
  {
   "cell_type": "markdown",
   "metadata": {},
   "source": [
    "# Sentimental Analysis Models for Twitter data"
   ]
  },
  {
   "cell_type": "code",
   "execution_count": 165,
   "metadata": {},
   "outputs": [],
   "source": [
    "import numpy as np\n",
    "import matplotlib.pyplot as plt\n",
    "import pandas as pd\n",
    "import csv\n",
    "import seaborn as sns "
   ]
  },
  {
   "cell_type": "code",
   "execution_count": 166,
   "metadata": {},
   "outputs": [],
   "source": [
    "df = pd.read_csv('Finaldata.csv')"
   ]
  },
  {
   "cell_type": "code",
   "execution_count": 167,
   "metadata": {},
   "outputs": [
    {
     "data": {
      "text/html": [
       "<div>\n",
       "<style scoped>\n",
       "    .dataframe tbody tr th:only-of-type {\n",
       "        vertical-align: middle;\n",
       "    }\n",
       "\n",
       "    .dataframe tbody tr th {\n",
       "        vertical-align: top;\n",
       "    }\n",
       "\n",
       "    .dataframe thead th {\n",
       "        text-align: right;\n",
       "    }\n",
       "</style>\n",
       "<table border=\"1\" class=\"dataframe\">\n",
       "  <thead>\n",
       "    <tr style=\"text-align: right;\">\n",
       "      <th></th>\n",
       "      <th>tweets</th>\n",
       "      <th>clean_tweets</th>\n",
       "      <th>sentiment</th>\n",
       "    </tr>\n",
       "  </thead>\n",
       "  <tbody>\n",
       "    <tr>\n",
       "      <th>0</th>\n",
       "      <td>Folks Iâ€™m at the Walmart bathroom and a woma...</td>\n",
       "      <td>folks walmart bathroom woman came turned janit...</td>\n",
       "      <td>positive</td>\n",
       "    </tr>\n",
       "    <tr>\n",
       "      <th>1</th>\n",
       "      <td>4/ Strategic acquirers up the wazoo. Every sin...</td>\n",
       "      <td>4 strategic acquirers wazoo every single ondem...</td>\n",
       "      <td>positive</td>\n",
       "    </tr>\n",
       "    <tr>\n",
       "      <th>2</th>\n",
       "      <td>@haddiebird Worse.  Walmart. So ashamed.</td>\n",
       "      <td>worse walmart ashamed</td>\n",
       "      <td>positive</td>\n",
       "    </tr>\n",
       "    <tr>\n",
       "      <th>3</th>\n",
       "      <td>@OfBrieMode Nothing wrong with Walmart, I blam...</td>\n",
       "      <td>nothing wrong walmart blame entirely shes whol...</td>\n",
       "      <td>negative</td>\n",
       "    </tr>\n",
       "    <tr>\n",
       "      <th>4</th>\n",
       "      <td>@JohnFusco12  Look what I found at Walmart! Th...</td>\n",
       "      <td>look found walmart checkout lady high praise w...</td>\n",
       "      <td>positive</td>\n",
       "    </tr>\n",
       "  </tbody>\n",
       "</table>\n",
       "</div>"
      ],
      "text/plain": [
       "                                              tweets  \\\n",
       "0  Folks Iâ€™m at the Walmart bathroom and a woma...   \n",
       "1  4/ Strategic acquirers up the wazoo. Every sin...   \n",
       "2           @haddiebird Worse.  Walmart. So ashamed.   \n",
       "3  @OfBrieMode Nothing wrong with Walmart, I blam...   \n",
       "4  @JohnFusco12  Look what I found at Walmart! Th...   \n",
       "\n",
       "                                        clean_tweets sentiment  \n",
       "0  folks walmart bathroom woman came turned janit...  positive  \n",
       "1  4 strategic acquirers wazoo every single ondem...  positive  \n",
       "2                              worse walmart ashamed  positive  \n",
       "3  nothing wrong walmart blame entirely shes whol...  negative  \n",
       "4  look found walmart checkout lady high praise w...  positive  "
      ]
     },
     "execution_count": 167,
     "metadata": {},
     "output_type": "execute_result"
    }
   ],
   "source": [
    "df.head()"
   ]
  },
  {
   "cell_type": "markdown",
   "metadata": {},
   "source": [
    "## Cleaning using natural language tool kit"
   ]
  },
  {
   "cell_type": "code",
   "execution_count": 168,
   "metadata": {},
   "outputs": [
    {
     "name": "stderr",
     "output_type": "stream",
     "text": [
      "[nltk_data] Downloading package stopwords to\n",
      "[nltk_data]     C:\\Users\\abler\\AppData\\Roaming\\nltk_data...\n",
      "[nltk_data]   Package stopwords is already up-to-date!\n"
     ]
    }
   ],
   "source": [
    "# Clean the text by removing any extra characters \n",
    "import re # tools for cleaning text\n",
    "import nltk # library to perform NLP\n",
    "nltk.download('stopwords') # tool to remove the non-essential words. It is a list of words\n",
    "from nltk.corpus import stopwords\n",
    "# Stemming means taking the root of the word such as love from loved or loving\n",
    "from nltk.stem.porter import PorterStemmer"
   ]
  },
  {
   "cell_type": "code",
   "execution_count": 169,
   "metadata": {},
   "outputs": [],
   "source": [
    "# Steps for cleaning the first review and apply for loop on all the reviews\n",
    "df['clean_tweets'][0]\n",
    "review = re.sub('[^a-zA-Z]', ' ', df['clean_tweets'][0]) # only keep the letters so what we dont want to remove\n",
    "review = review.lower() # make all letters as lowercase \n",
    "review = review.split()  # split the review into separate words to create a list of words\n",
    "ps =PorterStemmer()\n",
    "review = [ps.stem(word) for word in review if not  word in set(stopwords.words('english'))] # use set for larger text\n",
    "review = ' '.join(review) # take the list of words back into the string"
   ]
  },
  {
   "cell_type": "code",
   "execution_count": 170,
   "metadata": {},
   "outputs": [
    {
     "data": {
      "text/plain": [
       "'folk walmart bathroom woman came turn janitor clean toilet said'"
      ]
     },
     "execution_count": 170,
     "metadata": {},
     "output_type": "execute_result"
    }
   ],
   "source": [
    "review\n"
   ]
  },
  {
   "cell_type": "code",
   "execution_count": 171,
   "metadata": {},
   "outputs": [],
   "source": [
    "corpus = [] # Build a new list for all the words from all the reviews\n",
    "\n",
    "df['clean_tweets']=df['clean_tweets'].apply(str)\n",
    "# corpus is a collection of text and a common term used in NLP\n",
    "for i in range (0, 446):\n",
    "    review = re.sub('[^a-zA-Z]', ' ', df['clean_tweets'][i] )\n",
    "    review = review.lower()\n",
    "    review = review.split()\n",
    "    ps =PorterStemmer()\n",
    "    review = [ps.stem(word) for word in review if not  word in set(stopwords.words('english'))]\n",
    "    review = ' '.join(review)\n",
    "    corpus.append(review)"
   ]
  },
  {
   "cell_type": "code",
   "execution_count": 172,
   "metadata": {},
   "outputs": [
    {
     "data": {
      "text/plain": [
       "['folk walmart bathroom woman came turn janitor clean toilet said',\n",
       " 'strateg acquir wazoo everi singl ondemand food player tri acquir shef doordash ubereat',\n",
       " 'wors walmart asham',\n",
       " 'noth wrong walmart blame entir she whole dummi',\n",
       " 'look found walmart checkout ladi high prais well granddaught',\n",
       " 'walmart sell weav got kinki ponytail',\n",
       " 'write two week break give today walmart',\n",
       " 'alguien comprado millon btc rumor walmart confirma vamo k',\n",
       " 'yall usual great pickup today pretti bad ive wait min',\n",
       " 'hope britishcolumbia hurri allow costco walmart open campsit line',\n",
       " 'lmao ayo walmart app updat shi look cool',\n",
       " 'shouldv gotten went walmart',\n",
       " 'best bang buck',\n",
       " 'look found think',\n",
       " 'new avail walmart west branch supercent cook rd west branch access apr pm',\n",
       " 'go walmart time week ridicul atp',\n",
       " 'walmart',\n",
       " 'got walmart get niec last birthday present tomorrow ye',\n",
       " 'bad walmart doesnt sell tcg merch',\n",
       " 'idk what like like stay east nearest organ food store',\n",
       " 'someon explain perfectli okay peopl wait line costco walmart',\n",
       " 'squar small rectangular super cheap walmart ive found ship outsid',\n",
       " 'cop assault elderli woman dementia via definit polic need seriou retrai',\n",
       " 'open smartnew read alabama polic bite accus shoplift walmart doctor perform surgeri',\n",
       " 'supercent california md',\n",
       " 'thought pharmaceut compani patent potenti distribut walmart publix someth',\n",
       " 'heard walmart auto servic good job remov nail',\n",
       " 'realli need go find jean short amp idk go target walmart ross',\n",
       " 'ross walmart target go got heat',\n",
       " 'went walmart wmi momma amp sister told sister could get whatev got bunch cloth',\n",
       " 'saw walmart johnni pin',\n",
       " 'guess seem like could get walmart someth',\n",
       " 'stan mate mind sack arteta might abl get job stack shelv walmart like much',\n",
       " 'preorder mcfarlan toy mortal kombat subzero vs shao khan pack walmart exclus inch action figur',\n",
       " 'that start go ok basic egirl pleas heal ok twink catboy mayb dp littl harder',\n",
       " 'set came wrap walmart pie label',\n",
       " 'spent frustrat time help learn would rather',\n",
       " 'walmart addison anna antioch aurora batavia bedford park bellevil belvider benton bolingbrook bourbon',\n",
       " 'free air wick coupon walmart weber season recip book sam club freestuff',\n",
       " 'new avail appoint detect provid walmart locat walmart humbl supercent sam houston pkwi',\n",
       " 'new avail appoint detect provid walmart locat walmart denton neighborhood market teasley ln',\n",
       " 'know mean tyson walmart still',\n",
       " 'supercent pass christian ms',\n",
       " 'custom told somebodi use walmart debit card',\n",
       " 'wait abt omfg toooo like liter line walmart mind busi',\n",
       " 'new avail walmart burnsvil supercent river ridg blvd burnsvil mn access',\n",
       " 'best registri walmart target amazon',\n",
       " 'nathan famou open nontradit locat yearend insid walmart nathansfam',\n",
       " 'okay hear outwalmart brand equat brush ive liter use plenti ot',\n",
       " 'xanax walmart klepto',\n",
       " 'walmart line annoy',\n",
       " 'walmart custom servic desk voic tiktok egirl',\n",
       " 'wait line bro work walmart casua',\n",
       " 'vaccin appoint avail walmart burnsvil supercent burnsvil apr sign zip code',\n",
       " 'walmart good cloth cap',\n",
       " 'damn camera walmart use self check realli know make confid suck',\n",
       " 'hadnt thought wow see everi time go walmart tn ky',\n",
       " 'r frcikin kid us joke r report oh wait your lib worki',\n",
       " 'new avail walmart mapl grove supercent dunkirk ln mapl grove mn access',\n",
       " 'ps restock targetbb walmart week yeah',\n",
       " 'instagram centro comerci burda raro dise ad',\n",
       " 'look like someth youd find kn walmart',\n",
       " 'never forget dumbass thought stop take effexor take',\n",
       " 'eat fri homeless walmart park lot he nice',\n",
       " 'emerg dolt hi yeah cool pop walmart burnabi',\n",
       " 'might get best leg ive ever own walmart leg theyr awesom need',\n",
       " 'busi model social irrespons compani like uber amazon walmart alway b',\n",
       " 'today pick wrong day wear pull cu cold walmart yetserday hot',\n",
       " 'ok walmart ladi section see',\n",
       " 'vaccin appoint avail walmart mapl grove supercent mapl grove apr sign zip code',\n",
       " 'facebook date peopl walmart onlin date',\n",
       " 'boo hoo stop stick someon use weapon peopl',\n",
       " 'wouldnt surviv walmart target either',\n",
       " 'walmart realli favorit store',\n",
       " 'follow follow',\n",
       " 'walmart sandal stock know cheap ass stock',\n",
       " 'think see your come like walmart amazon jum',\n",
       " 'saw walmart intrigu buy bad hope flavor stick around',\n",
       " 'mouth tell walmart employe keep distanc today wear mask nose',\n",
       " 'quej encontrarlo peso walmart',\n",
       " 'walmart dress code shop trend',\n",
       " 'new walmart supercent total appoint locat age group address b',\n",
       " 'may sound cheap walmart sell realli comfi one',\n",
       " 'new avail walmart falcon supercent meridian market vw falcon co access',\n",
       " 'naw bro orlando go walmart kirkman bet chang mind lol',\n",
       " 'like dip caution tape walmart still buy sock didnt remov',\n",
       " 'first place hit get go',\n",
       " 'love look scari walmart bc hate everyon',\n",
       " 'better lululemon wear target walmart leg invest',\n",
       " 'lol yea cant go wrong walmart sure',\n",
       " 'mf cloth still intact year cant even get walmart cloth last month lmao',\n",
       " 'canada covid death count mean walk dead bodi walmart anywh',\n",
       " 'preorder open exclus mortalkombat subzero vs shao kahn pack',\n",
       " 'got go old nat walmart plaza',\n",
       " 'walmart greeter russia specif siberia',\n",
       " 'nan',\n",
       " 'walmart expressway shari walmart palmhurst dont requir mask tri anoth',\n",
       " 'best bluetooth dongl ps april ps see gt analogu bestbuy',\n",
       " 'tri burger king delafield right hill walmart absolut dread get better custom serv',\n",
       " 'there deal walmart cent pasta grab stock case prepper walmart',\n",
       " 'buy much give valu',\n",
       " 'delonghi ecam b amazon',\n",
       " 'episod jazz classic bloodi mallard special guest avail itun googl',\n",
       " 'ring light extend tripod stand sensyn led circl light phone holder live streammak',\n",
       " 'stress harm health kindl ebook help dramat reduc stress life',\n",
       " '',\n",
       " 'h te n chsten solo ver oferta chollo amazon reloj',\n",
       " 'moral terror polaris societi explor danger binari think',\n",
       " 'g',\n",
       " 'tapn us air click listen play pain eye',\n",
       " 'alcoholiday alk h l noun anytim hard day work celebr say friday alcohol',\n",
       " 'piec work enemi lover offic romanc ingl',\n",
       " 'aa ibuffalo web uvc bsw km hsv',\n",
       " 'top sell xl qt air fryer retail clip coupon',\n",
       " 'p indoor secur camera',\n",
       " 'tv season anim derbi season vol cv',\n",
       " 'listen ny time bestsel author continu second episod read cut fir',\n",
       " 'sca postcof',\n",
       " 'nationalpicnicday grab zojirushi stainless ms bento steel vacuum lunch jar slnce perfect meal',\n",
       " 'bubblegum tester state test around corner help make student goodi bag big',\n",
       " 'patio lawn amp garden plant seed amp bulb pot planter amp contain accessori hand tool water equ',\n",
       " 'diadolivrobdl',\n",
       " 'someon tell andrew keep remov item amazon cart might actual big issu',\n",
       " 'market warn hardcor definit nsfw amp compel',\n",
       " 'love stori stand origin theme scienc spiritu conflict strongl',\n",
       " 'stun power thriller breath away thriller',\n",
       " 'pi john gideon new partner beth may spellwield demon turn back hell hum',\n",
       " 'grapadora mesa grapadora libro f cil cargar capacidad hoja antideslizant precio',\n",
       " 'amazon',\n",
       " 'disfruta nuevo smartphon puerta hogar amazon felizviern',\n",
       " 'adir',\n",
       " '',\n",
       " 'deal promot',\n",
       " 'uso deezer amazon music',\n",
       " 'win live va shiro sagisu music fromshin evangelion',\n",
       " 'nowplay that way world smooth jazz star follow us tunein',\n",
       " 'happi friday scout crew discov anomali new world endlessli broadcast memori',\n",
       " 'brazil invest usd solar power amazon region via brazil',\n",
       " 'amazon secur atla rocket ula space broadband initi',\n",
       " 'registr open dr frisch topic mentor charact analysi june pm pt',\n",
       " 'diadolivrobdl lt',\n",
       " '',\n",
       " 'hario v evcm tb amazon',\n",
       " 'check fire tablet display gb black special offer amazon',\n",
       " 'rosebear wifi r atmega p esp placa desarrollo memoria mb usbttl ch g precio',\n",
       " 'pantri stapl',\n",
       " 'np feat marc steven amp joe ayind dre knowss parableradio gospel buy song',\n",
       " 'couldnt find amazon',\n",
       " 'amazon',\n",
       " 'vmax solar batteri slr vmaxtank agm ah v batteri solarpanel pv via',\n",
       " 'intern mysteri southern accent long road home carolyn bowen fiction internationalmysteri',\n",
       " 'play nazareth broken angel listen buy',\n",
       " 'play feel good extend buy song',\n",
       " 'amazon',\n",
       " 'amazon bluetooth gmwb tr jr',\n",
       " 'greenlight mcconaughey matthew new york time bestsel million copi sold academi aw',\n",
       " 'practic gratitud live see dont see boo',\n",
       " 'beard kit coupon page k posit review star rate',\n",
       " 'right gbr play turn beat around vicki robinson your miss cuz your play',\n",
       " 'ask children anim theyd like see creatur adventur amazon rainforest alaska',\n",
       " 'scifi dystopian thriller talent crimin chicago america power regim',\n",
       " 'jai vu plein reportag joueur foot amazon prime jv tou regard',\n",
       " 'nuevo podcast nocturnalia romano muerto vivient amazon espasa muerto',\n",
       " '',\n",
       " 'pale blue amazon',\n",
       " 'fabul educ immers prison life shine light work prison servic',\n",
       " 'ye spotifi gt amazon music',\n",
       " 'followmejp followm jpop electro music',\n",
       " 'christieagatha',\n",
       " 'amazon salon arriva salon parrucchier amazonsalon parrucchier amazon',\n",
       " 'inch late appl imac amazon',\n",
       " 'libro momento perfecto compr fabuloso libro ayudara cambiar mentalidad pr',\n",
       " 'ggii look twoday yesterdaytoday total share volum area three billion share huge',\n",
       " 'leav black friday better see headlin fight walmart half price toaster',\n",
       " 'next year realli honestli think go let internet mob store f',\n",
       " 'hit button tour walmart black fridaycashi ppl think xma everyth home',\n",
       " 'grow friday saw peopl camp retail store black friday',\n",
       " 'excit bear market hope crash everyth coupon skill run around',\n",
       " 'rain water work miracl plant shit open like walmart black friday',\n",
       " 'went way back see kid amp weirdest thing hav',\n",
       " 'walmart bro black friday cart fight tv smh',\n",
       " 'captain glen burni train defend walmart black friday',\n",
       " 'say nationwid strike sure televis go happen',\n",
       " 'stock guarante walmart black friday',\n",
       " 'think your treasur joy get read word bird app',\n",
       " 'rememb year back walmart use back black black friday worst wors denni pj',\n",
       " 'hoy premium quier dejar pelao oferta walmart black friday',\n",
       " 'biggest feder issu probabl walmart crap wage murder blac',\n",
       " 'walmart black friday',\n",
       " 'he even full walam version he black friday walmart version price',\n",
       " 'come three game arriv friday',\n",
       " 'homeless peopl reloc local best buy toy r us walmart locat',\n",
       " 'walmart year black friday that got',\n",
       " 'deal alert sure long last walmart roku instor pickup',\n",
       " 'peopl still tryna slang bud g that like walmart inflat price everi electron day black friday',\n",
       " 'ye got auto walmart black friday probabl ye',\n",
       " 'call day black friday deal stock good luck hunt',\n",
       " 'black friday us crazi shit yall get dollar bowflex start gunfight walmart',\n",
       " 'prepar dispensari wors black friday walmart',\n",
       " 'peopl line black friday front walmart count protest realli',\n",
       " 'ive seen much wors black friday sale walmart',\n",
       " 'make number manag idea group vaccin dont black frida',\n",
       " 'bruh walmart cashier least black friday belt put money lay pau',\n",
       " 'woman daughter work walmart omaha amp say like black friday loser',\n",
       " 'like walmart black friday',\n",
       " 'yall work black friday walmart night kid tame adult old wom',\n",
       " 'gone heck gone sinc black friday sale come',\n",
       " 'look like theyr go waterfront walmart black friday enough flare boat',\n",
       " 'worth black friday walmart special regular tv porch coupl',\n",
       " 'kid would restock look like walmart black friday less hour',\n",
       " 'ive seen better fight walmart park lot black friday tbh',\n",
       " 'damn said get big screen tv black friday sale ghetto walmart kick ass',\n",
       " 'well technic true sold first ever rd kit',\n",
       " 'wrong stand liberti natur right',\n",
       " 'dollar black friday walmart best ever spent bastard',\n",
       " 'made vaccin get lil high like minut ppl act woke get would lini',\n",
       " 'chikfila friday night chaotic walmart black friday',\n",
       " 'drown rat black friday walmart',\n",
       " 'yall wan know trash tinder talk awesom girl day went see rep',\n",
       " 'scream si said aveng black friday walmart go',\n",
       " 'hi bought tv walmart black friday deliv hous never',\n",
       " 'lay floor walmart entranc open door black friday get stamped',\n",
       " 'equival black friday fight walmart peopl ivori tower look laugh',\n",
       " 'ive thru black friday walmart day thanksgiv publix neither',\n",
       " 'realli quit stori got laid walmart without even told peopl start rumor',\n",
       " 'yknow work walmart black friday pretti much join black parad',\n",
       " 'anyon guess abl walk best buy target walmart gamestop',\n",
       " 'black friday walmart haha',\n",
       " 'nan',\n",
       " 'espera alguma coisa tipo black friday q compensa dm semana consumir amazon cadeira gamer conto',\n",
       " 'excel macbook air cheap black friday',\n",
       " 'retweet select team thanksgiv best earli black friday deal amazon',\n",
       " 'ohhh feisti friday morn go oster slice toaster black',\n",
       " 'amazon n chsten donnerstag schon black friday b rse aktien amz',\n",
       " 'w black friday gekommen h tte bushido film umsonst amazon prime statt',\n",
       " 'today earth day equival black friday day peopl contradict spirit yesterday p',\n",
       " 'good mourn black friday remast explicit megadeth amazon music',\n",
       " 'price drop oneplu power bank mah black amazon price',\n",
       " 'price drop oneplu power bank mah black rs link amazon price',\n",
       " 'oneplu power bank mah black amazon price',\n",
       " 'wave speed often persist luck secur ps xbox',\n",
       " 'engano prime day setembro outubro black friday ent',\n",
       " 'lrt refer use xp pen artist pro ignor that alway',\n",
       " 'black friday comprei livro amazon mo chegou falar deveriam pen',\n",
       " 'although prime day black friday cyber monday featur deepest discount still great deal',\n",
       " 'amazon bem rapida qnd quer comprei semana black friday chegou seguint compra fiquei',\n",
       " 'amazon alexa product amazon prime day amazon prime day like black friday amazon prime echodot',\n",
       " 'check boat basshead ear wire earphon miccharco black boat via',\n",
       " 'mgm investor day uk everi saturday platform handl x interact amazon black friday',\n",
       " 'kkkkkkk recomendaria esperar promo pq black friday coisa tipo amazon',\n",
       " 'appl airpod prezzo amazon black friday',\n",
       " 'prezzo black friday airpod minimo storico',\n",
       " 'glad pleas hear could help pleas back way amazon prime day',\n",
       " 'anytim amazon prime day nintendo switch pro restock inevi',\n",
       " 'nice good littl consol xbox game pass imo',\n",
       " 'hottest black friday vpn deal amazon glow rc toy drone wi',\n",
       " 'amazon black friday deal alert k tv garmin smartwatch airpod deeplearn iot bigdata mt',\n",
       " 'amzn amazon mention entain mgm resort intern entain plc announc betmgm busi updat',\n",
       " 'amzn amazon mention mgm resort intern mgm resort intern entain plc announc bet',\n",
       " 'hoy empezado probablement ltimo fia gran turismo championship gt soort final rascado quin',\n",
       " 'hottest black friday vpn deal amazon ft pink mini fridg',\n",
       " 'pc boyata',\n",
       " 'rumor amazon prime day place june dont know prime day amazon',\n",
       " 'oh amazon bota kindl promo legal black friday dess ano',\n",
       " 'halloween ricain black friday r cemment import niveau cultur tou',\n",
       " 'experi mostli use stuff save later',\n",
       " 'amiga vale pena dinheiro dando volta meia promo amazon',\n",
       " 'sign amazon prime card black friday rack close k',\n",
       " 'amazon prime day what time year againno black friday time',\n",
       " 'great love challeng doc watch weekend rivet',\n",
       " 'hottest black friday vpn deal rgb selfi ring light amazon',\n",
       " 'vaya tiempo revisaba amazon mercado tarjeta video pc costaba black friday',\n",
       " 'order new bodi black friday amp say truck longest',\n",
       " 'billion gener singl day gross merchandis valu that twice much bl',\n",
       " 'core',\n",
       " 'glad good experi happi help get next thin',\n",
       " 'chegou amazon present agora vou sentir tentado ler dua veze pra cada edi',\n",
       " 'hottest black friday vpn deal amazon tb crucial mx nand sata',\n",
       " 'guida abboccar falsi sconti black friday amazon blackfriday',\n",
       " 'retweet select team pick amazon fire tv stick k',\n",
       " 'black friday special got amazon kid tablet',\n",
       " 'still lower rate past like amazon rais price year lower',\n",
       " 'olha amg chromatica levou algun mese acho q mese pra entrar amazon chuto q ate bl',\n",
       " 'day gone great game favorit time got black friday amazon guess bad person lol',\n",
       " 'anytim jimmi that great bundl start back amazon prime day nintendo',\n",
       " 'nowplay georg young harri vanda friday mind georg young listen buy',\n",
       " 'amazon irobot roomba black friday',\n",
       " 'hottest black friday vpn deal amazon sandisk gb ultra microsdxc uh',\n",
       " 'uniqu amazon featur soni x h inch k hdr smart tv dro',\n",
       " 'metad problema resolveriam black friday amazon',\n",
       " 'deliv instal applianc still deliv stuff bought black friday sooo',\n",
       " 'dont blame jay fellow eagl fan root back',\n",
       " 'hottest black friday vpn deal amazon orbit bhyve smart zone',\n",
       " 'hottest black friday vpn deal amazon southwir w ground romex',\n",
       " 'esperando ansiosament vacina covid bra lan amento escravid vol amazon pr',\n",
       " 'hottest black friday vpn deal amazon anker powercor slim mah port',\n",
       " 'buy year ps everi black friday deal stack until year',\n",
       " 'agr q vc vou ficar esperan aqui ficou ness valor alguma',\n",
       " 'necesita cambiar alfombrilla rat n aqu dejamo opcion xxl rebajada rii xxl profesion x',\n",
       " 'final friday adspec ncaa florida gator collegi classic notebookcollegi classic notebook black size',\n",
       " 'hottest black friday vpn deal amazon lego architectur london skylin',\n",
       " 'happi friday first book mg scifi seri black hole radio boy interg',\n",
       " 'happi friday first book mg scifi seri black hole radio boy interg',\n",
       " 'saw bought copi wm check amazon deal dead haha',\n",
       " 'rayban rb classic aviat sunglass buy doge dogecoin dogecointothemoon',\n",
       " 'queroo vale pena esperar black friday tava amazon',\n",
       " 'retail report repertoir death black friday death skinni jean death leg onlin sho',\n",
       " 'even better got xbox seri x restock congrat joseph happi help',\n",
       " 'doesnt love free stuff show possibl win two amazon wishlist friday night pm',\n",
       " 'although local distribut legend amp black seri gener suck still bet',\n",
       " 'get wisdom panel go amazon black friday',\n",
       " 'gloomhaven amazon black friday price',\n",
       " 'gdp ideal citizen would compuls gambler cancer who go drawnout',\n",
       " 'nnnnn comprei black friday amazon ano passado outro livro mesma autora',\n",
       " 'wonder news lauren back way need someth amazon prime day nint',\n",
       " 'doorbust best buy',\n",
       " 'mani wait borderland reward game avail lowest price ever b',\n",
       " 'bought use suburbanal black like one thewirethat sweet pioneer cd p',\n",
       " 'lol got two preorder went live septemb incas got cancel fortun',\n",
       " 'anoth batch groceri store case two day report last one yorkregion coronaviru',\n",
       " 'knew work wrong groceri store back colleg freshco definit didnt',\n",
       " 'doubt manag definit appropri person handl',\n",
       " 'identifi secur guard sit top indigen woman tri forc handcuff',\n",
       " 'imo groceri shop easiest place make break budget dont shop expens p',\n",
       " 'violent arrest captur camera outsid freshco groceri store saskatoon woman involv cha',\n",
       " 'white supremaci work freshco groceri store white supremaci badg cover violent cri',\n",
       " 'canada prevent loss secur guard took indigen women sit top amp conti',\n",
       " 'owner amp horrifi alterc involv indigen woman outsid saskatoon groceri store',\n",
       " 'groceri store worker stop get hero pay sometim current longo empir cofreshco sob',\n",
       " 'starla fiddler record violent confront secur guard woman outsid freshco saskat',\n",
       " 'guy out what chauvin anymor tea derekchauvin securityisnotthelaw',\n",
       " 'stori indigen women women wrong overreact',\n",
       " 'delici freshco local groceri store usual carri mercado latin food stor',\n",
       " 'accord owner freshco sever tie secur compani wasnt emplo',\n",
       " 'owner horrifi alterc involv indigen woman outsid saskatoon groceri store',\n",
       " 'fruit basket anim dont burn book dave rubin groceri store freshco alway',\n",
       " 'sexual assault plain simpl open smartnew read owner horrifi alterc involv',\n",
       " 'watch video contain content may disturb viewer saskatoon busi owner shock',\n",
       " 'sask justic',\n",
       " 'sk entir video peopl refus acknowledg happen fb post peopl say',\n",
       " 'absolut rage feel right whyte guy would unconsci miss tee',\n",
       " 'icymi incid wednesday outsid freshco store rd street west captur video',\n",
       " 'absolut disgust owner horrifi alterc involv indigen woman outsid saskatoon groceri',\n",
       " 'feder sovereign indigen nation fsin call secur guard freshco groc',\n",
       " 'sad excus clearli assault need held account disgust action said',\n",
       " 'feder sovereign indigen nation call charg laid saskatoon groceri store',\n",
       " 'univers walmart wit two babi frat bro tri figur groceri shop',\n",
       " 'impress groceri pickup never time avail store near',\n",
       " 'babi made pick groceri necess walmart target',\n",
       " 'would expect walmart target groceri cv stood kinda like',\n",
       " 'walmart look xperi walmart launch walmart septemb sinc expand program',\n",
       " 'futur shop groceri groceri groceri',\n",
       " 'groceri storewalmart music weird like here yesterday top depress hit monday afternoon',\n",
       " 'loblaw groceri store ive seen sdm walmart well though',\n",
       " 'know reason govern creat shop basket corral return shop store g',\n",
       " 'ugh wish groceri store closer bc walmart hire sexual predat',\n",
       " 'instanc zone allow massiv publix walmart built wont built low',\n",
       " 'reopen bc small bu close christma might bare survi',\n",
       " 'girl walmart groceri deliveri becom whole life',\n",
       " 'lot low selfesteem fuck women amp nigga behind walmart amp amp',\n",
       " 'havent groceri store year walmart amazon prime deliv',\n",
       " 'walmart groceri pickup ellsworth',\n",
       " 'lord hold rain get walmart groceri pick',\n",
       " 'great news deliv miss groceri item hour late',\n",
       " 'old rbc visa card wasnt accept walmart',\n",
       " 'famili need cloth new gentli use femal children size male size waist medi',\n",
       " 'tell els abl help hey that busi hope didnt',\n",
       " 'collin counti groceri store target walmart etc still pretti much full everywh',\n",
       " 'walmart big pandem winner although subscript servic may grow quickli bull',\n",
       " 'fastest grow job walmart dont experi person',\n",
       " 'dont half time dont even believ your neurodiverg find help',\n",
       " 'costco walmart sam mexican groceri store',\n",
       " 'dealoftheday head add bird eye veget shop list earn cashback',\n",
       " 'live small town walmart necessari evil lot thing howev pandem mad',\n",
       " 'record late groceri deliveri what prize b',\n",
       " 'dont bring gun congress dont bring gun groceri dont bring gun walmart dont brin',\n",
       " 'walmart saga digitalclock clock screen electron monitor display walmart cash cashregist groceri',\n",
       " 'bitchhh ju spent hour half walmart groceri shop lol',\n",
       " 'cpi inaccur mani item sure monitor price gallon ga easi',\n",
       " 'hello angela follow provinci guidelin close sure pass feedbac',\n",
       " 'walmart groceri deliveri morn delight place order schedul deliveri next morn wake',\n",
       " 'use groceri pick lot late impress produc pick skill mental prepar walmart trip',\n",
       " 'foodoth groceri pick walmart set foot germriddl place',\n",
       " 'concern costco amazon walmart groceri chain record brea',\n",
       " 'walmart costco amazon along major groceri chain reap profit grossli',\n",
       " 'come ofc drag suspect hill school emerg mtg sport bet fl cbu protest continu',\n",
       " 'come deputi drag suspect hill school emerg mtg sport bet fl cbu protest conti',\n",
       " 'know morn got set groceri order glad soda clearli shown',\n",
       " 'never life get readi go groceri store liter errand id go whatev r',\n",
       " 'walmart groceri pick ad cart ty',\n",
       " 'back walmart open hr gone groceri shop',\n",
       " 'dude worri stater near honestli groceri section target walmart good',\n",
       " 'realli miss groceri shop walmart time',\n",
       " 'whenev go late alon even groceri store pepper spray',\n",
       " 'realli fuck there hr groceri store birmingham anymor sinc walmart start close',\n",
       " 'around noon tomorrow two week second covid shot gon groceri shop insid walmart eat',\n",
       " 'let tell put almost yr dri groceri depart manag',\n",
       " 'citi home biggest super walmart america got complet groceri section indoor escal',\n",
       " 'walmart isnt fill lexu amp doubt wear former phon',\n",
       " 'dont associ minimum wage yall got folk groceri make bread leavin',\n",
       " 'whoever invent groceri pick given sainthood got bring home food tomorrow went ahead',\n",
       " 'walmart groceri pickup deliveri kent oh',\n",
       " 'nan',\n",
       " 'earthday shout hwyhaul leverag ml reduc carbon emiss food wast',\n",
       " 'definit find well live indiana almost everi groceri store ov',\n",
       " 'honestli new orlean straight fact that dislik make groceri drive',\n",
       " 'bulletin porcupin health unit releas inform potenti low risk exposur custom',\n",
       " 'walk groceri section walmart amp sawheard littl girl mayb hold',\n",
       " 'love pay yearli fee instacart jack price everi singl item',\n",
       " 'must someon walmart whose entir job stab hole fuck groceri bag swear god',\n",
       " 'hey never get ever subscrib walmart like walmart pickup ord',\n",
       " 'target walmart like groceri store',\n",
       " 'true even shop walmart groceri bill concern',\n",
       " 'target right walmart disgust wasnt groceri depart wouldnt even exist today',\n",
       " 'oh brother good forc wear mask walmart groceri store',\n",
       " 'time go groceri store even walmart target everyon use pla',\n",
       " 'look nicest walmart entir world walmart across street walmart',\n",
       " 'pl think midwest store basic anoth groceri store like walmart jfj',\n",
       " 'walmart onlin groceri pickup',\n",
       " 'pharmaci everi walmart groceri store stand alon drop thousand locat alreadi',\n",
       " 'normal go food lion groceri shop today decid go walmart let say ima star',\n",
       " 'got vaccin walmart groceri shop guy excus fr',\n",
       " 'comprehens spring groceri haul sponsor',\n",
       " 'prepaid credit card associ transfer money',\n",
       " 'hair look good look like someon would see walk around groceri walmart would',\n",
       " 'see freedom supporteri think long clerk stockboy wear mask keep',\n",
       " 'cant oper qualiti groceri deliveri depart expect',\n",
       " 'add insult said well amp get like heck deliveri',\n",
       " 'pleas fix groceri deliveri naugatuck ct store order never arriv gon bother tell',\n",
       " 'applic say everi groceri store worker everi ga station attend everi singl walma',\n",
       " 'copi groceri retail',\n",
       " 'omg get distract fast id lose liter go groceri shop',\n",
       " 'happi hear your loaf groceri pickup mike',\n",
       " 'ship onlin order isnt groceri deliveri ghetto',\n",
       " 'total agre groceri pickup servic walmart servic sink month',\n",
       " 'ish week giddi tent plan vacat cours well sti',\n",
       " 'like groceri pick',\n",
       " 'well high level walmart hour def look ice',\n",
       " 'live greater twin citi metro area minneapolisst paul mn usual say',\n",
       " 'amazon continu lead groceri industri innov alway enjoy read articl written anni palm',\n",
       " 'walmart kroger aldi mom duke takin groceri shop lol limit',\n",
       " 'cup perman filter work theyr groceri store coffe aisl walmart',\n",
       " 'parent never treat disabl alway includ everi day live includ go groceri sh',\n",
       " 'lol despis walmart employe dont even know thing hate buy groceri',\n",
       " 'your right crystal light calori glass compar soda like strawberri orang ban',\n",
       " 'continuedat pmampaft clock came back homeampmonday morn went kroger groc']"
      ]
     },
     "execution_count": 172,
     "metadata": {},
     "output_type": "execute_result"
    }
   ],
   "source": [
    "corpus"
   ]
  },
  {
   "cell_type": "markdown",
   "metadata": {},
   "source": [
    "## Feature extraction"
   ]
  },
  {
   "cell_type": "markdown",
   "metadata": {},
   "source": [
    "## Bag of words"
   ]
  },
  {
   "cell_type": "code",
   "execution_count": 173,
   "metadata": {},
   "outputs": [],
   "source": [
    "from sklearn.feature_extraction.text import CountVectorizer\n",
    "cv = CountVectorizer(max_features= 300)"
   ]
  },
  {
   "cell_type": "code",
   "execution_count": 174,
   "metadata": {},
   "outputs": [],
   "source": [
    "X = cv.fit_transform(corpus).toarray()"
   ]
  },
  {
   "cell_type": "code",
   "execution_count": 175,
   "metadata": {},
   "outputs": [
    {
     "data": {
      "text/plain": [
       "array([[0, 0, 0, ..., 0, 0, 0],\n",
       "       [0, 0, 0, ..., 0, 0, 0],\n",
       "       [0, 0, 0, ..., 0, 0, 0],\n",
       "       ...,\n",
       "       [0, 0, 0, ..., 0, 0, 0],\n",
       "       [0, 0, 0, ..., 0, 0, 1],\n",
       "       [0, 0, 0, ..., 0, 0, 0]], dtype=int64)"
      ]
     },
     "execution_count": 175,
     "metadata": {},
     "output_type": "execute_result"
    }
   ],
   "source": [
    "X"
   ]
  },
  {
   "cell_type": "code",
   "execution_count": 176,
   "metadata": {},
   "outputs": [
    {
     "name": "stdout",
     "output_type": "stream",
     "text": [
      "['abl', 'absolut', 'access', 'air', 'airpod', 'alterc', 'although', 'alway', 'amazon', 'amp', 'anim', 'anoth', 'anytim', 'appoint', 'apr', 'around', 'ass', 'assault', 'avail', 'back', 'bad', 'bank', 'bc', 'best', 'bet', 'better', 'big', 'black', 'boat', 'book', 'bought', 'bring', 'bro', 'burnsvil', 'busi', 'buy', 'call', 'came', 'camera', 'cant', 'card', 'cart', 'cheap', 'check', 'chegou', 'classic', 'close', 'cloth', 'code', 'come', 'compani', 'comprei', 'continu', 'copi', 'costco', 'could', 'coupon', 'covid', 'custom', 'day', 'deal', 'death', 'definit', 'deliv', 'deliveri', 'depart', 'didnt', 'disgust', 'dont', 'drop', 'emerg', 'entain', 'entir', 'even', 'ever', 'everi', 'experi', 'feder', 'fight', 'find', 'first', 'follow', 'food', 'found', 'freshco', 'friday', 'fuck', 'game', 'get', 'girl', 'glad', 'go', 'gone', 'good', 'got', 'great', 'groceri', 'group', 'grove', 'grow', 'gt', 'guard', 'guess', 'gun', 'guy', 'half', 'happi', 'he', 'hear', 'help', 'high', 'hill', 'hit', 'hole', 'home', 'honestli', 'hope', 'horrifi', 'hottest', 'hour', 'inch', 'indigen', 'intern', 'involv', 'item', 'ive', 'job', 'keep', 'kid', 'know', 'last', 'late', 'leg', 'let', 'libro', 'life', 'light', 'like', 'line', 'listen', 'liter', 'littl', 'live', 'local', 'locat', 'lol', 'long', 'look', 'lot', 'love', 'low', 'mah', 'make', 'manag', 'mapl', 'market', 'mask', 'may', 'mgm', 'might', 'mind', 'miss', 'mn', 'morn', 'much', 'music', 'nan', 'need', 'never', 'new', 'next', 'night', 'oh', 'ok', 'old', 'one', 'oneplu', 'onlin', 'open', 'order', 'outsid', 'owner', 'park', 'pass', 'peopl', 'person', 'pick', 'pickup', 'place', 'play', 'pleas', 'pm', 'power', 'preorder', 'pretti', 'price', 'prime', 'promo', 'protest', 'ps', 'publix', 'rd', 'read', 'realli', 'record', 'remov', 'report', 'resort', 'restock', 'retail', 'right', 'rumor', 'said', 'sale', 'sam', 'saskatoon', 'saw', 'say', 'scifi', 'season', 'section', 'secur', 'see', 'seen', 'sell', 'seri', 'servic', 'set', 'shop', 'sign', 'sinc', 'singl', 'size', 'small', 'someon', 'someth', 'special', 'spent', 'stand', 'star', 'start', 'stick', 'still', 'stock', 'stop', 'store', 'stori', 'stuff', 'supercent', 'sure', 'target', 'tell', 'that', 'theyr', 'thing', 'think', 'thought', 'thriller', 'time', 'today', 'told', 'tomorrow', 'top', 'total', 'toy', 'tri', 'turn', 'tv', 'two', 'us', 'use', 'usual', 'vaccin', 'via', 'video', 'violent', 'vpn', 'wait', 'walk', 'walmart', 'wasnt', 'way', 'wear', 'week', 'well', 'went', 'west', 'what', 'woman', 'women', 'work', 'world', 'wors', 'would', 'wrong', 'xbox', 'yall', 'ye', 'year', 'your']\n"
     ]
    }
   ],
   "source": [
    "print(cv.get_feature_names())"
   ]
  },
  {
   "cell_type": "code",
   "execution_count": 177,
   "metadata": {},
   "outputs": [
    {
     "data": {
      "text/plain": [
       "(446, 300)"
      ]
     },
     "execution_count": 177,
     "metadata": {},
     "output_type": "execute_result"
    }
   ],
   "source": [
    "X.shape"
   ]
  },
  {
   "cell_type": "code",
   "execution_count": 178,
   "metadata": {},
   "outputs": [],
   "source": [
    "y = df.iloc[:,-1].values"
   ]
  },
  {
   "cell_type": "markdown",
   "metadata": {},
   "source": [
    "## Classification models"
   ]
  },
  {
   "cell_type": "markdown",
   "metadata": {},
   "source": [
    "## Naive Bayes model"
   ]
  },
  {
   "cell_type": "code",
   "execution_count": 179,
   "metadata": {},
   "outputs": [],
   "source": [
    "from sklearn.model_selection import train_test_split\n",
    "X_train,X_test,y_train,y_test=train_test_split(X,y, test_size=0.2, random_state=853) "
   ]
  },
  {
   "cell_type": "code",
   "execution_count": 180,
   "metadata": {},
   "outputs": [
    {
     "data": {
      "text/plain": [
       "GaussianNB()"
      ]
     },
     "execution_count": 180,
     "metadata": {},
     "output_type": "execute_result"
    }
   ],
   "source": [
    "from sklearn.naive_bayes import GaussianNB\n",
    "nv = GaussianNB() # create a classifier\n",
    "nv.fit(X_train,y_train) # fitting the data"
   ]
  },
  {
   "cell_type": "code",
   "execution_count": 181,
   "metadata": {},
   "outputs": [
    {
     "data": {
      "text/plain": [
       "0.6555555555555556"
      ]
     },
     "execution_count": 181,
     "metadata": {},
     "output_type": "execute_result"
    }
   ],
   "source": [
    "from sklearn.metrics import accuracy_score,confusion_matrix\n",
    "y_pred = nv.predict(X_test) # store the prediction data\n",
    "accuracy_score(y_test,y_pred) # calculate the accuracy"
   ]
  },
  {
   "cell_type": "code",
   "execution_count": 182,
   "metadata": {},
   "outputs": [
    {
     "name": "stdout",
     "output_type": "stream",
     "text": [
      "Confusion Matrix is : [[14  8]\n",
      " [23 45]]\n"
     ]
    }
   ],
   "source": [
    "from sklearn import metrics\n",
    "con_mat = confusion_matrix(y_test, y_pred)\n",
    "print(\"Confusion Matrix is : {}\".format(con_mat))"
   ]
  },
  {
   "cell_type": "code",
   "execution_count": 183,
   "metadata": {},
   "outputs": [
    {
     "data": {
      "image/png": "[encoded data removed]",
      "text/plain": [
       "<Figure size 432x288 with 2 Axes>"
      ]
     },
     "metadata": {
      "needs_background": "light"
     },
     "output_type": "display_data"
    }
   ],
   "source": [
    "sns.heatmap(con_mat, annot=True)\n",
    "plt.show()"
   ]
  },
  {
   "cell_type": "markdown",
   "metadata": {},
   "source": [
    "## SVM"
   ]
  },
  {
   "cell_type": "code",
   "execution_count": 184,
   "metadata": {},
   "outputs": [],
   "source": [
    "from sklearn.svm import SVC\n",
    "X_train,X_test,y_train,y_test=train_test_split(X,y,test_size=0.2,random_state=853)"
   ]
  },
  {
   "cell_type": "code",
   "execution_count": 185,
   "metadata": {},
   "outputs": [
    {
     "name": "stdout",
     "output_type": "stream",
     "text": [
      "Confusion Matrix is : [[14  8]\n",
      " [ 7 61]]\n"
     ]
    }
   ],
   "source": [
    " # Building a classification model for linear SVM after scaling\n",
    "from sklearn.svm import SVC\n",
    "clf_svm = SVC(kernel='linear',C=2)\n",
    "clf_svm.fit(X_train, y_train)\n",
    "y_pred = clf_svm.predict(X_test)\n",
    "# Making the Confusion Matrix\n",
    "con_mat = confusion_matrix(y_test,y_pred)\n",
    "# Evaluating the results\n",
    "print(\"Confusion Matrix is : {}\".format(con_mat))"
   ]
  },
  {
   "cell_type": "code",
   "execution_count": 186,
   "metadata": {},
   "outputs": [
    {
     "name": "stdout",
     "output_type": "stream",
     "text": [
      "Train accuracy is 0.99 and test accuracy is 0.83\n",
      "\n"
     ]
    }
   ],
   "source": [
    "# Accuracy of the linear SVM\n",
    "# calculate the accuracy of the Linear SVM on the training data\n",
    "train_accuracies_m = []\n",
    "test_accuracies_m = []\n",
    "acc_train = clf_svm.score(X_train, y_train)\n",
    "# calculate the accuracy of the Linear SVM on the test data\n",
    "acc_test = clf_svm.score(X_test, y_test)\n",
    "print(f'Train accuracy is {acc_train:.2f} and test accuracy is {acc_test:.2f}\\n')\n",
    "train_accuracies_m.append(acc_train)\n",
    "test_accuracies_m.append(acc_test)"
   ]
  },
  {
   "cell_type": "code",
   "execution_count": 187,
   "metadata": {},
   "outputs": [
    {
     "data": {
      "image/png": "[encoded data removed]",
      "text/plain": [
       "<Figure size 432x288 with 2 Axes>"
      ]
     },
     "metadata": {
      "needs_background": "light"
     },
     "output_type": "display_data"
    }
   ],
   "source": [
    "sns.heatmap(con_mat, annot=True)\n",
    "plt.show()"
   ]
  },
  {
   "cell_type": "markdown",
   "metadata": {},
   "source": [
    "## Decision tree"
   ]
  },
  {
   "cell_type": "code",
   "execution_count": 188,
   "metadata": {},
   "outputs": [
    {
     "name": "stdout",
     "output_type": "stream",
     "text": [
      "Confusion Matrix is : [[16  6]\n",
      " [ 8 60]]\n"
     ]
    }
   ],
   "source": [
    "# Splitting the dataset into the Training set and Test set\n",
    "X_train, X_test, y_train, y_test = train_test_split(X, y, test_size = 0.20, random_state = 853)\n",
    "\n",
    "# Building a classification model for Decision tree Classifier\n",
    "from sklearn.tree import DecisionTreeClassifier\n",
    "clf_dt = DecisionTreeClassifier()\n",
    "clf_dt.fit(X_train,y_train)\n",
    "y_pred = clf_dt.predict(X_test)\n",
    "\n",
    "# Making the Confusion Matrix\n",
    "con_mat = confusion_matrix(y_test,y_pred)\n",
    "\n",
    "# Evaluating the results\n",
    "print(\"Confusion Matrix is : {}\".format(con_mat))"
   ]
  },
  {
   "cell_type": "code",
   "execution_count": 189,
   "metadata": {},
   "outputs": [
    {
     "name": "stdout",
     "output_type": "stream",
     "text": [
      "Train accuracy is 0.99 and test accuracy is 0.84\n",
      "\n"
     ]
    }
   ],
   "source": [
    "#Calculating the accuracies for the decision tree\n",
    "# calculate the accuracy of the Decision tree with no parameters on the training data\n",
    "acc_train = clf_dt.score(X_train, y_train)\n",
    "# calculate the accuracy of the Decision tree with no parameters on the test data\n",
    "acc_test = clf_dt.score(X_test, y_test)\n",
    "print(f'Train accuracy is {acc_train:.2f} and test accuracy is {acc_test:.2f}\\n')\n",
    "# Adding the train and test accuracies to the lists so we can plot them later\n",
    "train_accuracies_m.append(acc_train)\n",
    "test_accuracies_m.append(acc_test)"
   ]
  },
  {
   "cell_type": "code",
   "execution_count": 190,
   "metadata": {},
   "outputs": [
    {
     "data": {
      "image/png": "[encoded data removed]",
      "text/plain": [
       "<Figure size 432x288 with 2 Axes>"
      ]
     },
     "metadata": {
      "needs_background": "light"
     },
     "output_type": "display_data"
    }
   ],
   "source": [
    "sns.heatmap(con_mat, annot=True)\n",
    "plt.show()"
   ]
  },
  {
   "cell_type": "markdown",
   "metadata": {},
   "source": [
    "### Random forest"
   ]
  },
  {
   "cell_type": "code",
   "execution_count": 191,
   "metadata": {},
   "outputs": [],
   "source": [
    "for i in range(5, 12, 2):\n",
    "    from sklearn.ensemble import RandomForestClassifier\n",
    "    clf=RandomForestClassifier(n_estimators=i)\n",
    "    clf.fit(X_train,y_train)"
   ]
  },
  {
   "cell_type": "code",
   "execution_count": 192,
   "metadata": {},
   "outputs": [
    {
     "name": "stdout",
     "output_type": "stream",
     "text": [
      "Confusion Matrix is : [[14  8]\n",
      " [ 6 62]]\n"
     ]
    }
   ],
   "source": [
    "# Fitting classifier to the Training set\n",
    "from sklearn.ensemble import RandomForestClassifier\n",
    "classifier = RandomForestClassifier(n_estimators = 10, criterion = 'entropy', random_state = 853)\n",
    "classifier.fit(X_train, y_train)\n",
    "y_predict =classifier.predict(X_test)# Predicting the Test set results\n",
    "con_mat = confusion_matrix(y_test,y_predict)\n",
    "# Evaluating the results\n",
    "print(\"Confusion Matrix is : {}\".format(con_mat))"
   ]
  },
  {
   "cell_type": "code",
   "execution_count": 193,
   "metadata": {},
   "outputs": [
    {
     "name": "stdout",
     "output_type": "stream",
     "text": [
      "Accuracy Score is : 0.8444444444444444\n"
     ]
    }
   ],
   "source": [
    "print(\"Accuracy Score is : {}\".format(accuracy_score(y_test, y_predict)))"
   ]
  },
  {
   "cell_type": "code",
   "execution_count": 194,
   "metadata": {},
   "outputs": [
    {
     "data": {
      "image/png": "[encoded data removed]",
      "text/plain": [
       "<Figure size 432x288 with 2 Axes>"
      ]
     },
     "metadata": {
      "needs_background": "light"
     },
     "output_type": "display_data"
    }
   ],
   "source": [
    "sns.heatmap(con_mat, annot=True)\n",
    "plt.show()"
   ]
  },
  {
   "cell_type": "code",
   "execution_count": null,
   "metadata": {},
   "outputs": [],
   "source": []
  },
  {
   "cell_type": "code",
   "execution_count": null,
   "metadata": {},
   "outputs": [],
   "source": []
  },
  {
   "cell_type": "markdown",
   "metadata": {},
   "source": [
    "## TF-IDF"
   ]
  },
  {
   "cell_type": "code",
   "execution_count": 195,
   "metadata": {},
   "outputs": [],
   "source": [
    "from sklearn.feature_extraction.text import TfidfVectorizer\n",
    "\n",
    "vectorizer = TfidfVectorizer (max_features=300, min_df=7, max_df=0.8, stop_words=stopwords.words('english'))"
   ]
  },
  {
   "cell_type": "code",
   "execution_count": 196,
   "metadata": {},
   "outputs": [],
   "source": [
    "corpus = vectorizer.fit_transform(corpus).toarray()"
   ]
  },
  {
   "cell_type": "code",
   "execution_count": 197,
   "metadata": {},
   "outputs": [],
   "source": [
    "X =corpus"
   ]
  },
  {
   "cell_type": "markdown",
   "metadata": {},
   "source": [
    "## Naive bayes"
   ]
  },
  {
   "cell_type": "code",
   "execution_count": 198,
   "metadata": {},
   "outputs": [],
   "source": [
    "from sklearn.model_selection import train_test_split\n",
    "X_train,X_test,y_train,y_test=train_test_split(X,y,test_size=0.2,random_state=853) #Split the dataset"
   ]
  },
  {
   "cell_type": "code",
   "execution_count": 199,
   "metadata": {},
   "outputs": [
    {
     "data": {
      "text/plain": [
       "GaussianNB()"
      ]
     },
     "execution_count": 199,
     "metadata": {},
     "output_type": "execute_result"
    }
   ],
   "source": [
    "from sklearn.naive_bayes import GaussianNB\n",
    "nv = GaussianNB() # create a classifier\n",
    "nv.fit(X_train,y_train) # fitting the data"
   ]
  },
  {
   "cell_type": "code",
   "execution_count": 200,
   "metadata": {},
   "outputs": [
    {
     "data": {
      "text/plain": [
       "0.4222222222222222"
      ]
     },
     "execution_count": 200,
     "metadata": {},
     "output_type": "execute_result"
    }
   ],
   "source": [
    "from sklearn.metrics import accuracy_score,confusion_matrix\n",
    "y_pred = nv.predict(X_test) # store the prediction data\n",
    "accuracy_score(y_test,y_pred) # calculate the accuracy"
   ]
  },
  {
   "cell_type": "code",
   "execution_count": 201,
   "metadata": {},
   "outputs": [
    {
     "name": "stdout",
     "output_type": "stream",
     "text": [
      "Confusion Matrix is : [[19  3]\n",
      " [49 19]]\n"
     ]
    }
   ],
   "source": [
    "con_mat = confusion_matrix(y_test, y_pred)\n",
    "print(\"Confusion Matrix is : {}\".format(con_mat))"
   ]
  },
  {
   "cell_type": "code",
   "execution_count": 203,
   "metadata": {},
   "outputs": [
    {
     "data": {
      "image/png": "[encoded data removed]",
      "text/plain": [
       "<Figure size 432x288 with 2 Axes>"
      ]
     },
     "metadata": {
      "needs_background": "light"
     },
     "output_type": "display_data"
    }
   ],
   "source": [
    "sns.heatmap(con_mat, annot=True)\n",
    "plt.show()"
   ]
  },
  {
   "cell_type": "markdown",
   "metadata": {},
   "source": [
    "## Random Forest"
   ]
  },
  {
   "cell_type": "code",
   "execution_count": 204,
   "metadata": {},
   "outputs": [],
   "source": [
    "X_train, X_test, y_train, y_test = train_test_split(X, y, test_size = 0.20, random_state = 853)\n",
    "#Implementing the Random forest\n",
    "for i in range(5, 12, 2):\n",
    "    from sklearn.ensemble import RandomForestClassifier\n",
    "    clf=RandomForestClassifier(n_estimators=i)\n",
    "    clf.fit(X_train,y_train)"
   ]
  },
  {
   "cell_type": "code",
   "execution_count": 205,
   "metadata": {},
   "outputs": [
    {
     "name": "stdout",
     "output_type": "stream",
     "text": [
      "Confusion Matrix is : [[13  9]\n",
      " [ 6 62]]\n"
     ]
    }
   ],
   "source": [
    "# Fitting classifier to the Training set\n",
    "from sklearn.ensemble import RandomForestClassifier\n",
    "classifier = RandomForestClassifier(n_estimators = 10, criterion = 'entropy', random_state = 853)\n",
    "classifier.fit(X_train, y_train)\n",
    "y_predict =classifier.predict(X_test)# Predicting the Test set results\n",
    "con_mat = confusion_matrix(y_test,y_predict)\n",
    "# Evaluating the results\n",
    "print(\"Confusion Matrix is : {}\".format(con_mat))\n"
   ]
  },
  {
   "cell_type": "code",
   "execution_count": 206,
   "metadata": {},
   "outputs": [
    {
     "name": "stdout",
     "output_type": "stream",
     "text": [
      "Accuracy Score is : 0.8333333333333334\n"
     ]
    }
   ],
   "source": [
    "print(\"Accuracy Score is : {}\".format(accuracy_score(y_test, y_predict)))"
   ]
  },
  {
   "cell_type": "code",
   "execution_count": 207,
   "metadata": {},
   "outputs": [
    {
     "data": {
      "image/png": "[encoded data removed]",
      "text/plain": [
       "<Figure size 432x288 with 2 Axes>"
      ]
     },
     "metadata": {
      "needs_background": "light"
     },
     "output_type": "display_data"
    }
   ],
   "source": [
    "sns.heatmap(con_mat, annot=True)\n",
    "plt.show()"
   ]
  },
  {
   "cell_type": "markdown",
   "metadata": {},
   "source": [
    "## Decision tree"
   ]
  },
  {
   "cell_type": "code",
   "execution_count": 208,
   "metadata": {},
   "outputs": [
    {
     "name": "stdout",
     "output_type": "stream",
     "text": [
      "Confusion Matrix is : [[13  9]\n",
      " [ 3 65]]\n"
     ]
    }
   ],
   "source": [
    "X_train, X_test, y_train, y_test = train_test_split(X, y, test_size = 0.20, random_state = 853)\n",
    "# Building a classification model for Decision tree Classifier\n",
    "from sklearn.tree import DecisionTreeClassifier\n",
    "clf_dt = DecisionTreeClassifier()\n",
    "clf_dt.fit(X_train,y_train)\n",
    "y_pred = clf_dt.predict(X_test)\n",
    "# Making the Confusion Matrix\n",
    "con_mat = confusion_matrix(y_test,y_pred)\n",
    "# Evaluating the results\n",
    "print(\"Confusion Matrix is : {}\".format(con_mat))"
   ]
  },
  {
   "cell_type": "code",
   "execution_count": 209,
   "metadata": {},
   "outputs": [
    {
     "name": "stdout",
     "output_type": "stream",
     "text": [
      "Train accuracy is 0.94 and test accuracy is 0.87\n",
      "\n"
     ]
    }
   ],
   "source": [
    "#Calculating the accuracies for the decision tree\n",
    "# calculate the accuracy of the Decision tree with no parameters on the training data\n",
    "acc_train = clf_dt.score(X_train, y_train)\n",
    "# calculate the accuracy of the Decision tree with no parameters on the test data\n",
    "acc_test = clf_dt.score(X_test, y_test)\n",
    "print(f'Train accuracy is {acc_train:.2f} and test accuracy is {acc_test:.2f}\\n')\n",
    "# Adding the train and test accuracies to the lists so we can plot them later\n",
    "train_accuracies_m.append(acc_train)\n",
    "test_accuracies_m.append(acc_test)\n"
   ]
  },
  {
   "cell_type": "code",
   "execution_count": 210,
   "metadata": {},
   "outputs": [
    {
     "data": {
      "image/png": "[encoded data removed]",
      "text/plain": [
       "<Figure size 432x288 with 2 Axes>"
      ]
     },
     "metadata": {
      "needs_background": "light"
     },
     "output_type": "display_data"
    }
   ],
   "source": [
    "sns.heatmap(con_mat, annot=True)\n",
    "plt.show()"
   ]
  },
  {
   "cell_type": "markdown",
   "metadata": {},
   "source": [
    "## SVM"
   ]
  },
  {
   "cell_type": "code",
   "execution_count": 211,
   "metadata": {},
   "outputs": [],
   "source": [
    "from sklearn.svm import SVC\n",
    "X_train,X_test,y_train,y_test=train_test_split(X,y,test_size=0.2,random_state=853) #Split the dataset"
   ]
  },
  {
   "cell_type": "code",
   "execution_count": 212,
   "metadata": {},
   "outputs": [
    {
     "name": "stdout",
     "output_type": "stream",
     "text": [
      "Confusion Matrix is : [[10 12]\n",
      " [ 5 63]]\n"
     ]
    }
   ],
   "source": [
    " # Building a classification model for linear SVM after scaling\n",
    "from sklearn.svm import SVC\n",
    "clf_svm = SVC(kernel='linear',C=2)\n",
    "clf_svm.fit(X_train, y_train)\n",
    "y_pred = clf_svm.predict(X_test)\n",
    "# Making the Confusion Matrix\n",
    "con_mat = confusion_matrix(y_test,y_pred)\n",
    "# Evaluating the results\n",
    "print(\"Confusion Matrix is : {}\".format(con_mat))"
   ]
  },
  {
   "cell_type": "code",
   "execution_count": 213,
   "metadata": {},
   "outputs": [
    {
     "name": "stdout",
     "output_type": "stream",
     "text": [
      "Train accuracy is 0.86 and test accuracy is 0.81\n",
      "\n"
     ]
    }
   ],
   "source": [
    "# Accuracy of the linear SVM\n",
    "# calculate the accuracy of the Linear SVM on the training data\n",
    "train_accuracies_m = []\n",
    "test_accuracies_m = []\n",
    "acc_train = clf_svm.score(X_train, y_train)\n",
    "# calculate the accuracy of the Linear SVM on the test data\n",
    "acc_test = clf_svm.score(X_test, y_test)\n",
    "print(f'Train accuracy is {acc_train:.2f} and test accuracy is {acc_test:.2f}\\n')\n",
    "train_accuracies_m.append(acc_train)\n",
    "test_accuracies_m.append(acc_test)"
   ]
  },
  {
   "cell_type": "code",
   "execution_count": 214,
   "metadata": {},
   "outputs": [
    {
     "data": {
      "image/png": "[encoded data removed]",
      "text/plain": [
       "<Figure size 432x288 with 2 Axes>"
      ]
     },
     "metadata": {
      "needs_background": "light"
     },
     "output_type": "display_data"
    }
   ],
   "source": [
    "sns.heatmap(con_mat, annot=True)\n",
    "plt.show()"
   ]
  },
  {
   "cell_type": "code",
   "execution_count": null,
   "metadata": {},
   "outputs": [],
   "source": []
  },
  {
   "cell_type": "code",
   "execution_count": null,
   "metadata": {},
   "outputs": [],
   "source": []
  }
 ],
 "metadata": {
  "kernelspec": {
   "display_name": "Python 3",
   "language": "python",
   "name": "python3"
  },
  "language_info": {
   "codemirror_mode": {
    "name": "ipython",
    "version": 3
   },
   "file_extension": ".py",
   "mimetype": "text/x-python",
   "name": "python",
   "nbconvert_exporter": "python",
   "pygments_lexer": "ipython3",
   "version": "3.8.5"
  }
 },
 "nbformat": 4,
 "nbformat_minor": 4
}
